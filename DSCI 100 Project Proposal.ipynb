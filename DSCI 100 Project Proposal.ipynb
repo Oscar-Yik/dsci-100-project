{
 "cells": [
  {
   "cell_type": "markdown",
   "id": "c2ba7d9c-cbb3-43d9-accd-97855fe3582e",
   "metadata": {},
   "source": [
    "# DSCI 100 Project Proposal"
   ]
  },
  {
   "cell_type": "markdown",
   "id": "9c862cd4-75b0-44b5-bd70-4ee1030c24c9",
   "metadata": {},
   "source": [
    "## Introduction"
   ]
  },
  {
   "cell_type": "markdown",
   "id": "59588cd6-5a7b-4a58-87f7-920dbcb5a4a0",
   "metadata": {},
   "source": [
    "## Preliminary Exploratory Data Analysis"
   ]
  },
  {
   "cell_type": "markdown",
   "id": "1120224b-2e63-402c-ac3e-6d34aec4e118",
   "metadata": {},
   "source": [
    "First we read the data from the repository and import libraries "
   ]
  },
  {
   "cell_type": "code",
   "execution_count": 14,
   "id": "6a0da88f-1f99-419f-8df3-9aea9689bc4a",
   "metadata": {},
   "outputs": [
    {
     "name": "stderr",
     "output_type": "stream",
     "text": [
      "── \u001b[1mAttaching packages\u001b[22m ────────────────────────────────────── tidymodels 1.1.1 ──\n",
      "\n",
      "\u001b[32m✔\u001b[39m \u001b[34mbroom       \u001b[39m 1.0.5     \u001b[32m✔\u001b[39m \u001b[34mrsample     \u001b[39m 1.2.0\n",
      "\u001b[32m✔\u001b[39m \u001b[34mdials       \u001b[39m 1.2.0     \u001b[32m✔\u001b[39m \u001b[34mtune        \u001b[39m 1.1.2\n",
      "\u001b[32m✔\u001b[39m \u001b[34minfer       \u001b[39m 1.0.5     \u001b[32m✔\u001b[39m \u001b[34mworkflows   \u001b[39m 1.1.3\n",
      "\u001b[32m✔\u001b[39m \u001b[34mmodeldata   \u001b[39m 1.2.0     \u001b[32m✔\u001b[39m \u001b[34mworkflowsets\u001b[39m 1.0.1\n",
      "\u001b[32m✔\u001b[39m \u001b[34mparsnip     \u001b[39m 1.1.1     \u001b[32m✔\u001b[39m \u001b[34myardstick   \u001b[39m 1.2.0\n",
      "\u001b[32m✔\u001b[39m \u001b[34mrecipes     \u001b[39m 1.0.8     \n",
      "\n",
      "── \u001b[1mConflicts\u001b[22m ───────────────────────────────────────── tidymodels_conflicts() ──\n",
      "\u001b[31m✖\u001b[39m \u001b[34mscales\u001b[39m::\u001b[32mdiscard()\u001b[39m masks \u001b[34mpurrr\u001b[39m::discard()\n",
      "\u001b[31m✖\u001b[39m \u001b[34mdplyr\u001b[39m::\u001b[32mfilter()\u001b[39m   masks \u001b[34mstats\u001b[39m::filter()\n",
      "\u001b[31m✖\u001b[39m \u001b[34mrecipes\u001b[39m::\u001b[32mfixed()\u001b[39m  masks \u001b[34mstringr\u001b[39m::fixed()\n",
      "\u001b[31m✖\u001b[39m \u001b[34mdplyr\u001b[39m::\u001b[32mlag()\u001b[39m      masks \u001b[34mstats\u001b[39m::lag()\n",
      "\u001b[31m✖\u001b[39m \u001b[34myardstick\u001b[39m::\u001b[32mspec()\u001b[39m masks \u001b[34mreadr\u001b[39m::spec()\n",
      "\u001b[31m✖\u001b[39m \u001b[34mrecipes\u001b[39m::\u001b[32mstep()\u001b[39m   masks \u001b[34mstats\u001b[39m::step()\n",
      "\u001b[34m•\u001b[39m Use \u001b[32mtidymodels_prefer()\u001b[39m to resolve common conflicts.\n",
      "\n"
     ]
    }
   ],
   "source": [
    "library(repr)\n",
    "library(tidyverse) \n",
    "library(tidymodels)\n",
    "options(repr.matrix.max.rows = 6) #limits output of dataframes to 6 rows"
   ]
  },
  {
   "cell_type": "code",
   "execution_count": 6,
   "id": "a76de1a3-7958-404e-8b58-b61991e25d21",
   "metadata": {},
   "outputs": [],
   "source": [
    "# un-comment to download the data\n",
    "# download.file(url = \"https://github.com/Oscar-Yik/dsci-100-project/blob/3af4ff02686b68be2b21e76b3c5c68ec408c329f/data/heart_disease/processed.cleveland.data\", destfile = \"data/heart_disease/processed.cleveland.data\")\n",
    "# download.file(url = \"https://github.com/Oscar-Yik/dsci-100-project/blob/3af4ff02686b68be2b21e76b3c5c68ec408c329f/data/heart_disease/processed.hungarian.data\", destfile = \"data/heart_disease/processed.hungarian.data\")\n",
    "# download.file(url = \"https://github.com/Oscar-Yik/dsci-100-project/blob/3af4ff02686b68be2b21e76b3c5c68ec408c329f/data/heart_disease/processed.switzerland.data\", destfile = \"data/heart_disease/processed.switzerland.data\")\n",
    "# download.file(url = \"https://github.com/Oscar-Yik/dsci-100-project/blob/3af4ff02686b68be2b21e76b3c5c68ec408c329f/data/heart_disease/processed.va.data\", destfile = \"data/heart_disease/processed.va.data\")"
   ]
  },
  {
   "cell_type": "code",
   "execution_count": 5,
   "id": "4bf58595-656d-4974-a6aa-7f1e046ec70a",
   "metadata": {},
   "outputs": [
    {
     "name": "stderr",
     "output_type": "stream",
     "text": [
      "\u001b[1mRows: \u001b[22m\u001b[34m303\u001b[39m \u001b[1mColumns: \u001b[22m\u001b[34m14\u001b[39m\n",
      "\u001b[36m──\u001b[39m \u001b[1mColumn specification\u001b[22m \u001b[36m────────────────────────────────────────────────────────\u001b[39m\n",
      "\u001b[1mDelimiter:\u001b[22m \",\"\n",
      "\u001b[31mchr\u001b[39m  (2): ca, thal\n",
      "\u001b[32mdbl\u001b[39m (12): age, sex, cp, trestbps, chol, fbs, restecg, thalach, exang, oldpea...\n",
      "\n",
      "\u001b[36mℹ\u001b[39m Use `spec()` to retrieve the full column specification for this data.\n",
      "\u001b[36mℹ\u001b[39m Specify the column types or set `show_col_types = FALSE` to quiet this message.\n",
      "\u001b[1mRows: \u001b[22m\u001b[34m294\u001b[39m \u001b[1mColumns: \u001b[22m\u001b[34m14\u001b[39m\n",
      "\u001b[36m──\u001b[39m \u001b[1mColumn specification\u001b[22m \u001b[36m────────────────────────────────────────────────────────\u001b[39m\n",
      "\u001b[1mDelimiter:\u001b[22m \",\"\n",
      "\u001b[31mchr\u001b[39m (9): trestbps, chol, fbs, restecg, thalach, exang, slope, ca, thal\n",
      "\u001b[32mdbl\u001b[39m (5): age, sex, cp, oldpeak, num\n",
      "\n",
      "\u001b[36mℹ\u001b[39m Use `spec()` to retrieve the full column specification for this data.\n",
      "\u001b[36mℹ\u001b[39m Specify the column types or set `show_col_types = FALSE` to quiet this message.\n",
      "\u001b[1mRows: \u001b[22m\u001b[34m123\u001b[39m \u001b[1mColumns: \u001b[22m\u001b[34m14\u001b[39m\n",
      "\u001b[36m──\u001b[39m \u001b[1mColumn specification\u001b[22m \u001b[36m────────────────────────────────────────────────────────\u001b[39m\n",
      "\u001b[1mDelimiter:\u001b[22m \",\"\n",
      "\u001b[31mchr\u001b[39m (9): trestbps, fbs, restecg, thalach, exang, oldpeak, slope, ca, thal\n",
      "\u001b[32mdbl\u001b[39m (5): age, sex, cp, chol, num\n",
      "\n",
      "\u001b[36mℹ\u001b[39m Use `spec()` to retrieve the full column specification for this data.\n",
      "\u001b[36mℹ\u001b[39m Specify the column types or set `show_col_types = FALSE` to quiet this message.\n",
      "\u001b[1mRows: \u001b[22m\u001b[34m200\u001b[39m \u001b[1mColumns: \u001b[22m\u001b[34m14\u001b[39m\n",
      "\u001b[36m──\u001b[39m \u001b[1mColumn specification\u001b[22m \u001b[36m────────────────────────────────────────────────────────\u001b[39m\n",
      "\u001b[1mDelimiter:\u001b[22m \",\"\n",
      "\u001b[31mchr\u001b[39m (9): trestbps, chol, fbs, thalach, exang, oldpeak, slope, ca, thal\n",
      "\u001b[32mdbl\u001b[39m (5): age, sex, cp, restecg, num\n",
      "\n",
      "\u001b[36mℹ\u001b[39m Use `spec()` to retrieve the full column specification for this data.\n",
      "\u001b[36mℹ\u001b[39m Specify the column types or set `show_col_types = FALSE` to quiet this message.\n"
     ]
    }
   ],
   "source": [
    "heart_disease_cols <- c(\"age\", \"sex\", \"cp\", \"trestbps\", \"chol\", \"fbs\", \"restecg\", \"thalach\", \"exang\", \"oldpeak\", \"slope\", \"ca\", \"thal\", \"num\")\n",
    "heart_disease_C <- read_csv(file = \"data/heart_disease/processed.cleveland.data\", col_names = heart_disease_cols)\n",
    "heart_disease_H <- read_csv(file = \"data/heart_disease/processed.hungarian.data\", col_names = heart_disease_cols)\n",
    "heart_disease_S <- read_csv(file = \"data/heart_disease/processed.switzerland.data\", col_names = heart_disease_cols)\n",
    "heart_disease_V <- read_csv(file = \"data/heart_disease/processed.va.data\", col_names = heart_disease_cols)"
   ]
  },
  {
   "cell_type": "markdown",
   "id": "c8d53aec-247c-49ef-9a99-31b04ed7ac21",
   "metadata": {},
   "source": [
    "We want the target column to be a factor type so the classfication algorithm can work properly "
   ]
  },
  {
   "cell_type": "code",
   "execution_count": 12,
   "id": "fa2fca28-e8e5-4d76-ba4b-56d806e66cc4",
   "metadata": {},
   "outputs": [],
   "source": [
    "heart_disease_C <- mutate(heart_disease_C, num = as_factor(num))\n",
    "heart_disease_H <- mutate(heart_disease_H, num = as_factor(num))\n",
    "heart_disease_S <- mutate(heart_disease_S, num = as_factor(num))\n",
    "heart_disease_V <- mutate(heart_disease_V, num = as_factor(num))"
   ]
  },
  {
   "cell_type": "markdown",
   "id": "66dff5cf-d4cc-402b-8944-52412f9a57de",
   "metadata": {},
   "source": [
    "We also want to get rid of missing values in the data so our models don't fail"
   ]
  },
  {
   "cell_type": "code",
   "execution_count": 24,
   "id": "c1868742-6bb7-4d91-af63-d10b66e79e9f",
   "metadata": {},
   "outputs": [],
   "source": [
    "# fill(heart_disease_C, \"nocb\")"
   ]
  },
  {
   "cell_type": "markdown",
   "id": "6bb582af-7532-4976-9eee-b54220aa726e",
   "metadata": {},
   "source": [
    "With the prelimary data read and cleaned, we can split it into training and testing sets. For this project we will go with 30% training and 70% testing splits. "
   ]
  },
  {
   "cell_type": "code",
   "execution_count": 18,
   "id": "a8c987e3-30f5-44b2-94de-2e802ea497fd",
   "metadata": {},
   "outputs": [],
   "source": [
    "heart_disease_C_split <- initial_split(heart_disease_C, prop = 0.3, strata = num)\n",
    "heart_disease_C_train <- training(heart_disease_C_split)\n",
    "heart_disease_C_test <- testing(heart_disease_C_split)\n",
    "\n",
    "heart_disease_H_split <- initial_split(heart_disease_H, prop = 0.3, strata = num)\n",
    "heart_disease_H_train <- training(heart_disease_H_split)\n",
    "heart_disease_H_test <- testing(heart_disease_H_split)\n",
    "\n",
    "heart_disease_S_split <- initial_split(heart_disease_S, prop = 0.3, strata = num)\n",
    "heart_disease_S_train <- training(heart_disease_S_split)\n",
    "heart_disease_S_test <- testing(heart_disease_S_split)\n",
    "\n",
    "heart_disease_V_split <- initial_split(heart_disease_V, prop = 0.3, strata = num)\n",
    "heart_disease_V_train <- training(heart_disease_V_split)\n",
    "heart_disease_V_test <- testing(heart_disease_V_split)"
   ]
  },
  {
   "cell_type": "code",
   "execution_count": 19,
   "id": "179e1c68-341d-4075-b4d1-109dfee26ca2",
   "metadata": {},
   "outputs": [
    {
     "name": "stdout",
     "output_type": "stream",
     "text": [
      "Rows: 89\n",
      "Columns: 14\n",
      "$ age      \u001b[3m\u001b[90m<dbl>\u001b[39m\u001b[23m 41, 56, 52, 48, 49, 58, 60, 50, 66, 43, 44, 40, 71, 51, 54, 5…\n",
      "$ sex      \u001b[3m\u001b[90m<dbl>\u001b[39m\u001b[23m 0, 1, 1, 0, 1, 0, 1, 0, 0, 1, 1, 1, 0, 1, 1, 0, 1, 0, 0, 1, 1…\n",
      "$ cp       \u001b[3m\u001b[90m<dbl>\u001b[39m\u001b[23m 2, 2, 3, 3, 2, 1, 4, 3, 1, 4, 3, 1, 2, 3, 3, 3, 2, 4, 3, 4, 3…\n",
      "$ trestbps \u001b[3m\u001b[90m<dbl>\u001b[39m\u001b[23m 130, 120, 172, 130, 130, 150, 130, 120, 150, 150, 130, 140, 1…\n",
      "$ chol     \u001b[3m\u001b[90m<dbl>\u001b[39m\u001b[23m 204, 236, 199, 275, 266, 283, 206, 219, 226, 247, 233, 199, 3…\n",
      "$ fbs      \u001b[3m\u001b[90m<dbl>\u001b[39m\u001b[23m 0, 0, 1, 0, 0, 1, 0, 0, 0, 0, 0, 0, 0, 0, 0, 1, 0, 0, 0, 0, 0…\n",
      "$ restecg  \u001b[3m\u001b[90m<dbl>\u001b[39m\u001b[23m 2, 0, 0, 0, 0, 2, 2, 0, 0, 0, 0, 0, 0, 0, 2, 0, 0, 2, 2, 2, 0…\n",
      "$ thalach  \u001b[3m\u001b[90m<dbl>\u001b[39m\u001b[23m 172, 178, 162, 139, 171, 162, 132, 158, 114, 171, 179, 178, 1…\n",
      "$ exang    \u001b[3m\u001b[90m<dbl>\u001b[39m\u001b[23m 0, 0, 0, 0, 0, 0, 1, 0, 0, 0, 1, 1, 0, 0, 0, 0, 0, 0, 0, 0, 0…\n",
      "$ oldpeak  \u001b[3m\u001b[90m<dbl>\u001b[39m\u001b[23m 1.4, 0.8, 0.5, 0.2, 0.6, 1.0, 2.4, 1.6, 2.6, 1.5, 0.4, 1.4, 0…\n",
      "$ slope    \u001b[3m\u001b[90m<dbl>\u001b[39m\u001b[23m 1, 1, 1, 1, 1, 1, 2, 2, 3, 1, 1, 1, 1, 1, 3, 1, 1, 1, 1, 2, 2…\n",
      "$ ca       \u001b[3m\u001b[90m<chr>\u001b[39m\u001b[23m \"0.0\", \"0.0\", \"0.0\", \"0.0\", \"0.0\", \"0.0\", \"2.0\", \"0.0\", \"0.0\"…\n",
      "$ thal     \u001b[3m\u001b[90m<chr>\u001b[39m\u001b[23m \"3.0\", \"3.0\", \"7.0\", \"3.0\", \"3.0\", \"3.0\", \"7.0\", \"3.0\", \"3.0\"…\n",
      "$ num      \u001b[3m\u001b[90m<fct>\u001b[39m\u001b[23m 0, 0, 0, 0, 0, 0, 4, 0, 0, 0, 0, 0, 0, 0, 0, 0, 0, 0, 0, 0, 0…\n",
      "Rows: 214\n",
      "Columns: 14\n",
      "$ age      \u001b[3m\u001b[90m<dbl>\u001b[39m\u001b[23m 63, 67, 37, 62, 57, 63, 53, 57, 56, 56, 44, 57, 48, 54, 64, 5…\n",
      "$ sex      \u001b[3m\u001b[90m<dbl>\u001b[39m\u001b[23m 1, 1, 1, 0, 0, 1, 1, 1, 0, 1, 1, 1, 1, 1, 1, 1, 0, 1, 0, 1, 1…\n",
      "$ cp       \u001b[3m\u001b[90m<dbl>\u001b[39m\u001b[23m 1, 4, 3, 4, 4, 4, 4, 4, 2, 3, 2, 3, 2, 4, 1, 3, 3, 4, 1, 4, 3…\n",
      "$ trestbps \u001b[3m\u001b[90m<dbl>\u001b[39m\u001b[23m 145, 120, 130, 140, 120, 130, 140, 140, 140, 130, 120, 150, 1…\n",
      "$ chol     \u001b[3m\u001b[90m<dbl>\u001b[39m\u001b[23m 233, 229, 250, 268, 354, 254, 203, 192, 294, 256, 263, 168, 2…\n",
      "$ fbs      \u001b[3m\u001b[90m<dbl>\u001b[39m\u001b[23m 1, 0, 0, 0, 0, 0, 1, 0, 0, 1, 0, 0, 0, 0, 0, 0, 0, 0, 0, 1, 0…\n",
      "$ restecg  \u001b[3m\u001b[90m<dbl>\u001b[39m\u001b[23m 2, 2, 0, 2, 0, 2, 2, 0, 2, 2, 0, 0, 0, 0, 2, 2, 0, 2, 0, 0, 0…\n",
      "$ thalach  \u001b[3m\u001b[90m<dbl>\u001b[39m\u001b[23m 150, 129, 187, 160, 163, 147, 155, 148, 153, 142, 173, 174, 1…\n",
      "$ exang    \u001b[3m\u001b[90m<dbl>\u001b[39m\u001b[23m 0, 1, 0, 0, 1, 0, 1, 0, 0, 1, 0, 0, 0, 0, 1, 0, 0, 1, 0, 1, 0…\n",
      "$ oldpeak  \u001b[3m\u001b[90m<dbl>\u001b[39m\u001b[23m 2.3, 2.6, 3.5, 3.6, 0.6, 1.4, 3.1, 0.4, 1.3, 0.6, 0.0, 1.6, 1…\n",
      "$ slope    \u001b[3m\u001b[90m<dbl>\u001b[39m\u001b[23m 3, 2, 3, 3, 1, 2, 3, 2, 2, 2, 1, 1, 3, 1, 2, 1, 1, 2, 1, 1, 1…\n",
      "$ ca       \u001b[3m\u001b[90m<chr>\u001b[39m\u001b[23m \"0.0\", \"2.0\", \"0.0\", \"2.0\", \"0.0\", \"1.0\", \"0.0\", \"0.0\", \"0.0\"…\n",
      "$ thal     \u001b[3m\u001b[90m<chr>\u001b[39m\u001b[23m \"6.0\", \"7.0\", \"3.0\", \"3.0\", \"3.0\", \"7.0\", \"7.0\", \"6.0\", \"3.0\"…\n",
      "$ num      \u001b[3m\u001b[90m<fct>\u001b[39m\u001b[23m 0, 1, 0, 3, 0, 2, 1, 0, 0, 2, 0, 0, 1, 0, 0, 3, 0, 3, 0, 2, 1…\n"
     ]
    }
   ],
   "source": [
    "glimpse(heart_disease_C_train)\n",
    "glimpse(heart_disease_C_test)"
   ]
  },
  {
   "cell_type": "code",
   "execution_count": null,
   "id": "f329ac13-fbee-4c60-8460-3b9b1ee5b1de",
   "metadata": {},
   "outputs": [],
   "source": []
  },
  {
   "cell_type": "markdown",
   "id": "24e9dac2-97bc-404b-bd67-d4b108cc50d4",
   "metadata": {},
   "source": [
    "## Methods"
   ]
  },
  {
   "cell_type": "code",
   "execution_count": null,
   "id": "98fa822e-0377-433b-92aa-9dd5db805e7d",
   "metadata": {},
   "outputs": [],
   "source": []
  },
  {
   "cell_type": "markdown",
   "id": "a67239af-8bf7-41b4-9a40-ceb0599a7ba2",
   "metadata": {},
   "source": [
    "## Expected Outcomes and Significant"
   ]
  },
  {
   "cell_type": "code",
   "execution_count": null,
   "id": "385fe6f2-edf2-4361-b52a-13e04fbd8387",
   "metadata": {},
   "outputs": [],
   "source": []
  }
 ],
 "metadata": {
  "kernelspec": {
   "display_name": "R",
   "language": "R",
   "name": "ir"
  },
  "language_info": {
   "codemirror_mode": "r",
   "file_extension": ".r",
   "mimetype": "text/x-r-source",
   "name": "R",
   "pygments_lexer": "r",
   "version": "4.3.1"
  }
 },
 "nbformat": 4,
 "nbformat_minor": 5
}
